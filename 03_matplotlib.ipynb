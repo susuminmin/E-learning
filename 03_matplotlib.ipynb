{
 "cells": [
  {
   "cell_type": "markdown",
   "metadata": {},
   "source": [
    "# Matplotlib"
   ]
  },
  {
   "cell_type": "markdown",
   "metadata": {},
   "source": [
    "## Data 시각화"
   ]
  },
  {
   "cell_type": "markdown",
   "metadata": {},
   "source": [
    "### matplotlib 로 그래프 그리기"
   ]
  },
  {
   "cell_type": "markdown",
   "metadata": {},
   "source": [
    "- 파이썬에서 데이터를 효과적으로 시각화하는 라이브러리\n",
    "- Matlab 의 시각화 기능을 모델링해서 만들어 짐\n",
    "- 몇 줄의 코드로 간단하게 2차원 선그래프, 산점도, 막대그래프, 히스토그램, 파이그래프를 그릴 수 있음\n",
    "\n",
    "```python\n",
    "%matplotlib inline\n",
    "%matplotlib qt\n",
    "```"
   ]
  },
  {
   "cell_type": "code",
   "execution_count": null,
   "metadata": {},
   "outputs": [],
   "source": [
    "import matplotlib as mpl\n",
    "import matplotlib.pylab as plt"
   ]
  },
  {
   "cell_type": "code",
   "execution_count": null,
   "metadata": {},
   "outputs": [],
   "source": [
    "%matplotlib inline"
   ]
  },
  {
   "cell_type": "markdown",
   "metadata": {},
   "source": [
    "### 선그래프"
   ]
  },
  {
   "cell_type": "markdown",
   "metadata": {},
   "source": [
    "- 선 그래프를 그리기 위해서는 x, y 시퀀스의 길이가 같아야 함\n",
    "- x 는 주어지지 않아도 됨 (주어지지 않는다면 0, 1, 2, ...)\n",
    "- fmt 는 다양한 형식으로 그래프를 그릴 수 있는 옵션\n",
    "\n",
    "```python\n",
    "plt.plot([x,] y [,fmt])\n",
    "```"
   ]
  },
  {
   "cell_type": "code",
   "execution_count": null,
   "metadata": {},
   "outputs": [],
   "source": [
    "data1 = [10, 14, 19, 20, 25]"
   ]
  },
  {
   "cell_type": "code",
   "execution_count": null,
   "metadata": {},
   "outputs": [],
   "source": [
    "plt.plot(data1)"
   ]
  },
  {
   "cell_type": "code",
   "execution_count": null,
   "metadata": {},
   "outputs": [],
   "source": [
    "plt.plot(data1)\n",
    "plt.show() # 객체 정보를 지우고 싶을 때"
   ]
  },
  {
   "cell_type": "code",
   "execution_count": null,
   "metadata": {},
   "outputs": [],
   "source": [
    "import numpy as np"
   ]
  },
  {
   "cell_type": "code",
   "execution_count": null,
   "metadata": {},
   "outputs": [],
   "source": [
    "x = np.arange(-4.5, 5, 0.5)"
   ]
  },
  {
   "cell_type": "code",
   "execution_count": null,
   "metadata": {},
   "outputs": [],
   "source": [
    "x"
   ]
  },
  {
   "cell_type": "code",
   "execution_count": null,
   "metadata": {},
   "outputs": [],
   "source": [
    "y = 2*x**2\n",
    "y"
   ]
  },
  {
   "cell_type": "code",
   "execution_count": null,
   "metadata": {},
   "outputs": [],
   "source": [
    "[x, y]"
   ]
  },
  {
   "cell_type": "code",
   "execution_count": null,
   "metadata": {},
   "outputs": [],
   "source": [
    "plt.plot(x, y)\n",
    "plt.show()"
   ]
  },
  {
   "cell_type": "markdown",
   "metadata": {},
   "source": [
    "### 여러 그래프 그리기"
   ]
  },
  {
   "cell_type": "markdown",
   "metadata": {},
   "source": [
    "#### 하나의 창에 여러 그래프를 표시하는 방법"
   ]
  },
  {
   "cell_type": "markdown",
   "metadata": {},
   "source": [
    "- 방법1\n",
    "\n",
    "\n",
    "```python\n",
    "plt.plot([x1,]y1[,fmt1])\n",
    "plt.plot([x2,]y2[,fmt2])\n",
    "plt.plot([x3,]y3[,fmt3])\n",
    "```"
   ]
  },
  {
   "cell_type": "markdown",
   "metadata": {},
   "source": [
    "- 방법2\n",
    "```python\n",
    "plt.plot(x1, y1 [,fmt1], x2, y2 [,fmt2], ...)\n",
    "```"
   ]
  },
  {
   "cell_type": "markdown",
   "metadata": {},
   "source": [
    "#### 여러 창에 각각 그래프 표시하는 방법"
   ]
  },
  {
   "cell_type": "markdown",
   "metadata": {},
   "source": [
    "```python\n",
    "plt.plot(x, y1) # 첫 번째 그래프 그리기\n",
    "plt.figure() # 새로운 창 생성\n",
    "plt.plot(x, y2) # 두 번째 그래프 그리기\n",
    "plt.show() # 그래프 창에 출력 --> 두 개의 창 각각 출력\n",
    "```"
   ]
  },
  {
   "cell_type": "markdown",
   "metadata": {},
   "source": [
    "#### 하나의 창에 여러 그래프 창으로 그리기"
   ]
  },
  {
   "cell_type": "markdown",
   "metadata": {},
   "source": [
    "```python\n",
    "plt.subplot(m, n, p)\n",
    "```"
   ]
  },
  {
   "cell_type": "code",
   "execution_count": null,
   "metadata": {},
   "outputs": [],
   "source": [
    "x = np.arange(-4.5, 5, 0.5)"
   ]
  },
  {
   "cell_type": "code",
   "execution_count": null,
   "metadata": {},
   "outputs": [],
   "source": [
    "y1 = 2*x**2\n",
    "y2 = 5*x + 30\n",
    "y3 = 4*x**2 + 10"
   ]
  },
  {
   "cell_type": "code",
   "execution_count": null,
   "metadata": {},
   "outputs": [],
   "source": [
    "plt.plot(x, y1)"
   ]
  },
  {
   "cell_type": "code",
   "execution_count": null,
   "metadata": {},
   "outputs": [],
   "source": [
    "plt.plot(x, y2)"
   ]
  },
  {
   "cell_type": "code",
   "execution_count": null,
   "metadata": {},
   "outputs": [],
   "source": [
    "plt.plot(x, y3)"
   ]
  },
  {
   "cell_type": "code",
   "execution_count": null,
   "metadata": {},
   "outputs": [],
   "source": [
    "plt.plot(x, y1)\n",
    "plt.plot(x, y2)\n",
    "plt.plot(x, y3) # 하나의 그림 창 안에 세 개의 그래프 같이 그려진다. "
   ]
  },
  {
   "cell_type": "code",
   "execution_count": null,
   "metadata": {},
   "outputs": [],
   "source": [
    "plt.plot(x, y1, x, y2, x, y3)\n",
    "plt.show()"
   ]
  },
  {
   "cell_type": "code",
   "execution_count": null,
   "metadata": {},
   "outputs": [],
   "source": [
    "plt.plot(x, y1)\n",
    "plt.figure() # 새로운 그래프 창을 생성한다\n",
    "plt.plot(x, y2) # 새롭게 생성된 그래프 창에 그래프를 그린다\n",
    "\n",
    "plt.show()"
   ]
  },
  {
   "cell_type": "code",
   "execution_count": null,
   "metadata": {},
   "outputs": [],
   "source": [
    "x = np.arange(-10, 10, 1)\n",
    "y1 = x**2 - 2\n",
    "y2 = 20*np.cos(x)**2"
   ]
  },
  {
   "cell_type": "code",
   "execution_count": null,
   "metadata": {},
   "outputs": [],
   "source": [
    "plt.figure(1) # 1번 그래프 창을 생성한다 \n",
    "plt.plot(x, y1) # 지정된 그래프 창에 그래프를 그린다 \n",
    "\n",
    "plt.figure(2) # 2번 그래프 창을 생성한다\n",
    "plt.plot(x, y2) # 지정된 그래프 창에 그래프를 그린다\n",
    "\n",
    "plt.figure(1) # 이미 생성된 1번 그래프 창을 지정한다 \n",
    "plt.plot(x, y2) # 지정된 그래프 창에 그래프를 그린다\n",
    "\n",
    "plt.figure(2) # 이미 생성된 2번 그래프 창을 지정한다\n",
    "plt.clf() # 2번 그래프 창에 그려진 모든 그림을 지운다\n",
    "plt.plot(x, y1) # 지정된 그래프 창에 그래프를 그린다\n",
    "\n",
    "plt.show()"
   ]
  },
  {
   "cell_type": "code",
   "execution_count": null,
   "metadata": {},
   "outputs": [],
   "source": [
    "x = np.arange(0, 10, 0.2)\n",
    "y1 = 0.4*(x-5)**2 + 2\n",
    "y2 = -1.7*x + 4\n",
    "y3 = np.sin(x)**2\n",
    "y4 = 15*np.exp(-x) + 1"
   ]
  },
  {
   "cell_type": "code",
   "execution_count": null,
   "metadata": {},
   "outputs": [],
   "source": [
    "# 2 by 2 로 창을 쪼갠다\n",
    "\n",
    "plt.subplot(2, 2, 1)\n",
    "plt.plot(x, y1)\n",
    "\n",
    "plt.subplot(2, 2, 2)\n",
    "plt.plot(x, y2)\n",
    "\n",
    "plt.subplot(2, 2, 3)\n",
    "plt.plot(x, y3)\n",
    "\n",
    "plt.subplot(2, 2, 4)\n",
    "plt.plot(x, y4)\n",
    "\n",
    "plt.show()"
   ]
  },
  {
   "cell_type": "markdown",
   "metadata": {},
   "source": [
    "### 그래프의 출력 범위 지정하기"
   ]
  },
  {
   "cell_type": "markdown",
   "metadata": {},
   "source": [
    "- 그래프의 x축과 y축 좌표 범위를 지정하여\n",
    "- 전체 그래프 중 관심 영역만 그래프로 그릴 수 있음\n",
    "\n",
    "```python\n",
    "plt.xlim(xmin, xmax)\n",
    "plt.ylim(ymin, ymax)\n",
    "```"
   ]
  },
  {
   "cell_type": "markdown",
   "metadata": {},
   "source": [
    "- x, y축 좌표 범위를 가져오는 방버\n",
    "\n",
    "```python\n",
    "[xmin, xmax] = plt.xlim()\n",
    "[ymin, ymax] = plt.ylim()\n",
    "```"
   ]
  },
  {
   "cell_type": "code",
   "execution_count": null,
   "metadata": {},
   "outputs": [],
   "source": [
    "x = np.linspace(-4, 4, 100) # [-4, 4] 범위에서 100개의 값 생성\n",
    "y1 = x**3\n",
    "y2 = 10*x**2 - 2"
   ]
  },
  {
   "cell_type": "code",
   "execution_count": null,
   "metadata": {},
   "outputs": [],
   "source": [
    "plt.plot(x, y1, x, y2)\n",
    "plt.show()"
   ]
  },
  {
   "cell_type": "code",
   "execution_count": null,
   "metadata": {},
   "outputs": [],
   "source": [
    "plt.plot(x, y1, x, y2)\n",
    "plt.xlim(-1, 1)\n",
    "plt.ylim(-3, 3)\n",
    "plt.show()"
   ]
  },
  {
   "cell_type": "markdown",
   "metadata": {},
   "source": [
    "## 그래프 꾸미기"
   ]
  },
  {
   "cell_type": "markdown",
   "metadata": {},
   "source": [
    "- 그래프의 축 라벨, 제목, 격자, 문자열을 추가하는 방법\n",
    "- fmt 옵션을 이용하면 그래프의 컬러, 선의 스타일, 마커를 지정할 수 있음\n",
    "\n",
    "```python\n",
    "fmt = '[color][line_style][marker]'\n",
    "```"
   ]
  },
  {
   "cell_type": "markdown",
   "metadata": {},
   "source": [
    "|컬러 약어|컬러|\n",
    "|--|--|\n",
    "|b|파란색|\n",
    "|g|녹색|\n",
    "|r|빨간색|\n",
    "|c|청녹색|\n",
    "|m|자홍색|\n",
    "|y|노란색|\n",
    "|k|검은색|\n",
    "|w|흰색|"
   ]
  },
  {
   "cell_type": "markdown",
   "metadata": {},
   "source": [
    "|선 스타일 약어|선 스타일|\n",
    "|--|--|\n",
    "|-|실선(solide line)|\n",
    "|--|파선(dashed line)|\n",
    "|:|점선(dotted line)|\n",
    "|-.|파선 점선 혼합선(dash-dot line)|"
   ]
  },
  {
   "cell_type": "markdown",
   "metadata": {},
   "source": [
    "|마커 약어|컬러|\n",
    "|--|--|\n",
    "|o|원 모양|\n",
    "|^, v, <, >|삼각형 위쪽, 아래쪽, 왼쪽, 오른쪽 방향|\n",
    "|s|사각형|\n",
    "|p|오각형|\n",
    "|h, H|육각형1, 육각형2|\n",
    "|* |별 모양|\n",
    "|+ |더하기|\n",
    "|x, X| x, 채워진 X|\n",
    "|D, d|다이아몬드, 얇은 다이아몬드|"
   ]
  },
  {
   "cell_type": "markdown",
   "metadata": {},
   "source": [
    "- plt.legend() 에서 사용되는 loc 옵션을 통해 범례의 위치 지정\n",
    "\n",
    "|범례 위치|위치 문자열|위치 코드|\n",
    "|--|--|--|\n",
    "|최적 위치 자동 선정|Best|0|\n",
    "|상단 우측|upper right|1|\n",
    "|상단 좌측|upper left|2|\n",
    "|하단 좌측|lower left|3|\n",
    "|하단 우측|lower right|4|\n",
    "|우측|right|5|\n",
    "|중앙 좌측|center left|6|\n",
    "|중앙 우측|center right|7|\n",
    "|하단 중앙|lower center|8|\n",
    "|상단 중앙|upper center|9|\n",
    "|중앙|center|10|"
   ]
  },
  {
   "cell_type": "markdown",
   "metadata": {},
   "source": [
    "- 그래프 한글 표시법\n",
    "matplotlib 에서 사용하는 폰트를 한글 폰트로 지정해야 함\n",
    "\n",
    "```python\n",
    "import matplotlib\n",
    "Matplotlib.rcParams['font.family']\n",
    "```"
   ]
  },
  {
   "cell_type": "markdown",
   "metadata": {},
   "source": [
    "- 폰트 변경법\n",
    "\n",
    "```python\n",
    "Matplotlib.rcParams['font.family'] = '폰트 이름'\n",
    "```"
   ]
  },
  {
   "cell_type": "markdown",
   "metadata": {},
   "source": [
    "- 한글 폰트 지정 후 그래프에서 마이너스 폰트가 깨지는 문제 해결\n",
    "\n",
    "```python\n",
    "Matploblib.rcParams['axes.Unicode_minus'] = False\n",
    "```"
   ]
  },
  {
   "cell_type": "code",
   "execution_count": null,
   "metadata": {},
   "outputs": [],
   "source": [
    "import numpy as np\n",
    "x = np.arange(0, 10, 1)\n",
    "y1 = x\n",
    "y2 = x + 2\n",
    "y3 = x + 4\n",
    "y4 = x + 6"
   ]
  },
  {
   "cell_type": "code",
   "execution_count": null,
   "metadata": {},
   "outputs": [],
   "source": [
    "# 선의 색깔 옵션 적용\n",
    "\n",
    "plt.plot(x, y1, 'm', x, y2, 'y', x, y3, 'k', x, y4, 'c')\n",
    "plt.show()"
   ]
  },
  {
   "cell_type": "code",
   "execution_count": null,
   "metadata": {},
   "outputs": [],
   "source": [
    "plt.plot(x, y1, '-', x, y2, '--', x, y3, ':', x, y4, '-.')\n",
    "plt.show()"
   ]
  },
  {
   "cell_type": "code",
   "execution_count": null,
   "metadata": {},
   "outputs": [],
   "source": [
    "plt.plot(x, y1, 'o', x, y2, '^', x, y3, 's', x, y4, 'd')\n",
    "plt.show()"
   ]
  },
  {
   "cell_type": "code",
   "execution_count": null,
   "metadata": {},
   "outputs": [],
   "source": [
    "plt.plot(x, y1, '>--r', x, y2, 's-g', x, y3, 'd:b', x, y4, '-.Xc')\n",
    "plt.show()"
   ]
  },
  {
   "cell_type": "code",
   "execution_count": null,
   "metadata": {},
   "outputs": [],
   "source": [
    "x = np.arange(-4.5, 5, 0.5)\n",
    "y = 2*x**3"
   ]
  },
  {
   "cell_type": "code",
   "execution_count": null,
   "metadata": {},
   "outputs": [],
   "source": [
    "plt.plot(x, y)\n",
    "plt.xlabel('X-axios')\n",
    "plt.ylabel('Y-axios')\n",
    "plt.show()"
   ]
  },
  {
   "cell_type": "code",
   "execution_count": null,
   "metadata": {},
   "outputs": [],
   "source": [
    "plt.plot(x,y)\n",
    "plt.xlabel('X-axis')\n",
    "plt.ylabel('Y-axis')\n",
    "plt.title('Graph Title')\n",
    "plt.grid(True)\n",
    "plt.show()"
   ]
  },
  {
   "cell_type": "code",
   "execution_count": null,
   "metadata": {},
   "outputs": [],
   "source": [
    "import numpy as np\n",
    "x = np.arange(0, 5, 1)\n",
    "y1 = x\n",
    "y2 = x + 1\n",
    "y3 = x + 2\n",
    "y4 = x + 3"
   ]
  },
  {
   "cell_type": "code",
   "execution_count": null,
   "metadata": {
    "scrolled": true
   },
   "outputs": [],
   "source": [
    "plt.plot(x, y1, '>--r', x, y2, 's-g', x, y3, 'd:b', x, y4, '-.Xc')\n",
    "plt.legend(['data1', 'data2', 'data3', 'data4'], loc='lower right')\n",
    "plt.show()"
   ]
  },
  {
   "cell_type": "code",
   "execution_count": null,
   "metadata": {},
   "outputs": [],
   "source": [
    "import matplotlib\n",
    "\n",
    "matplotlib.rcParams['font.family'] = 'Malgun Gothic'\n",
    "matplotlib.rcParams['axes.unicode_minus'] = False"
   ]
  },
  {
   "cell_type": "code",
   "execution_count": null,
   "metadata": {},
   "outputs": [],
   "source": [
    "plt.plot(x, y1, '>--r', x, y2, 's-g', x, y3, 'd:b', x, y4, '-.Xc')\n",
    "plt.legend(['데이터1', '데이터2', '데이터3', '데이터4'], loc='best')\n",
    "plt.xlabel('X 축')\n",
    "plt.ylabel('Y 축')\n",
    "plt.title('그래프 제목')\n",
    "plt.grid(True)\n",
    "plt.show()"
   ]
  },
  {
   "cell_type": "code",
   "execution_count": null,
   "metadata": {},
   "outputs": [],
   "source": [
    "plt.plot(x, y1, '>--r', x, y2, 's-g', x, y3, 'd:b', x, y4, '-.Xc')\n",
    "plt.text(0, 6, '문자열 출력1')\n",
    "plt.text(0, 4, '문자열 출력2')\n",
    "plt.text(3, 1, '문자열 출력3')\n",
    "plt.text(3, 0, '문자열 출력4')\n",
    "plt.show()"
   ]
  },
  {
   "cell_type": "markdown",
   "metadata": {},
   "source": [
    "## 산점도"
   ]
  },
  {
   "cell_type": "markdown",
   "metadata": {},
   "source": [
    "- 산점도는 두 개의 요소로 이뤄진 데이터 집합의 관계를 그림으로 표현한 것\n",
    "\n",
    "```python\n",
    "plt.scatter(x, y)\n",
    "```"
   ]
  },
  {
   "cell_type": "code",
   "execution_count": null,
   "metadata": {},
   "outputs": [],
   "source": [
    "import matplotlib.pyplot as plt"
   ]
  },
  {
   "cell_type": "code",
   "execution_count": null,
   "metadata": {},
   "outputs": [],
   "source": [
    "height = [178, 165, 188, 180, 187, 185, 165, 176]\n",
    "weight = [72, 67, 65, 64, 90, 85, 53, 64]"
   ]
  },
  {
   "cell_type": "code",
   "execution_count": null,
   "metadata": {},
   "outputs": [],
   "source": [
    "plt.scatter(height, weight)\n",
    "plt.xlabel('Height(cm)')\n",
    "plt.ylabel('Weight(kg)')\n",
    "plt.title('Height & Weight')\n",
    "plt.grid(True)"
   ]
  },
  {
   "cell_type": "code",
   "execution_count": null,
   "metadata": {},
   "outputs": [],
   "source": [
    "plt.scatter(height, weight, s=500, c='r') # 마커 크기는 500, 컬러는 붉은색(red)\n",
    "plt.grid(True)\n",
    "plt.show()"
   ]
  },
  {
   "cell_type": "code",
   "execution_count": null,
   "metadata": {},
   "outputs": [],
   "source": [
    "size = 100 * np.arange(0, 8)\n",
    "colors = ['r', 'g', 'b', 'c', 'm', 'k', 'y', 'k']\n",
    "plt.scatter(height, weight, s=size, c=colors)\n",
    "plt.show()"
   ]
  },
  {
   "cell_type": "code",
   "execution_count": null,
   "metadata": {},
   "outputs": [],
   "source": [
    "import numpy as np\n",
    "\n",
    "city = ['서울', '인천', '대전', '대구', '울산', '부산', '광주']"
   ]
  },
  {
   "cell_type": "code",
   "execution_count": null,
   "metadata": {},
   "outputs": [],
   "source": [
    "# 위도(latitude)와 경도(longitude)\n",
    "\n",
    "lat = [37.56, 37.45, 36.35, 35.87, 35.53, 35.18, 35.15]\n",
    "lon = [126.97, 126.70, 127.38, 128.60, 129.31, 129.07, 126.85]"
   ]
  },
  {
   "cell_type": "code",
   "execution_count": null,
   "metadata": {},
   "outputs": [],
   "source": [
    "# 인구 밀도(명/km^2)\n",
    "\n",
    "pop_den = [16154, 2751, 2839, 2790, 1099, 4454, 2995]"
   ]
  },
  {
   "cell_type": "code",
   "execution_count": null,
   "metadata": {},
   "outputs": [],
   "source": [
    "size = np.array(pop_den) * 0.2\n",
    "colors = ['r', 'g', 'b', 'c', 'm', 'k', 'y']"
   ]
  },
  {
   "cell_type": "code",
   "execution_count": null,
   "metadata": {},
   "outputs": [],
   "source": [
    "plt.scatter(lon, lat, s=size, c=colors, alpha=0.5)\n",
    "plt.xlabel('경도(longitude)')\n",
    "plt.ylabel('위도(latitude)')\n",
    "plt.title('지역별 인구 밀도(2017)')\n",
    "\n",
    "for x, y, name in zip(lon, lat, city):\n",
    "    plt.text(x, y, name)\n",
    "    \n",
    "plt.show()"
   ]
  },
  {
   "cell_type": "markdown",
   "metadata": {},
   "source": [
    "## 막대 그래프"
   ]
  },
  {
   "cell_type": "markdown",
   "metadata": {},
   "source": [
    "- 값을 막대의 높이로 나타내어 여러 항목의 수량 비교에 탁월함\n",
    "- x의 값이 category인 경우"
   ]
  },
  {
   "cell_type": "markdown",
   "metadata": {},
   "source": [
    "|옵션|내용|\n",
    "|--|--|\n",
    "|width|막대의 폭 조절, 입력하지 않으면 기본값인 0.8 입력|\n",
    "|color|fmt 옵션의 컬러 지정 약어를 이용해 막대 그래프의 색 지정|\n",
    "|tick_label|문자열 혹은 문자열 리스트를 입력해 막대 그래프 각각의 이름 지정, 지정하지 않으면 기본적으로 숫자로 라벨 지정|\n",
    "|align|막대 그래프 위치를 가운데(center) 로 할지 한쪽으로(edge) 치우치게 할지 설정, 기본은 center|\n",
    "|label|범례에 사용될 문자열 지정|\n",
    "|barh|가로 막대 그래프를 그리는 방법(bar horizontal), width 옵션 이용 불가|"
   ]
  },
  {
   "cell_type": "code",
   "execution_count": null,
   "metadata": {},
   "outputs": [],
   "source": [
    "member_IDs = ['m1', 'm2', 'm3', 'm4'] # 회원 ID\n",
    "before_ex = [45, 35, 42, 38] # 운동 시작 전 팔굽혀펴기 횟수\n",
    "after_ex = [49, 42, 49, 37] # 운동 한 달 후 팔굽혀펴기 횟수"
   ]
  },
  {
   "cell_type": "code",
   "execution_count": null,
   "metadata": {},
   "outputs": [],
   "source": [
    "import matplotlib.pyplot as plt\n",
    "import numpy as np\n",
    "\n",
    "n_data = len(member_IDs)\n",
    "index = np.arange(n_data)\n",
    "plt.bar(index, before_ex)\n",
    "plt.show()"
   ]
  },
  {
   "cell_type": "code",
   "execution_count": null,
   "metadata": {},
   "outputs": [],
   "source": [
    "# tick_label : 막대 그래프 각각의 이름을 지정\n",
    "\n",
    "plt.bar(index, before_ex, tick_label=member_IDs)\n",
    "plt.show()"
   ]
  },
  {
   "cell_type": "code",
   "execution_count": null,
   "metadata": {},
   "outputs": [],
   "source": [
    "colors = ['r', 'g', 'b', 'm']\n",
    "plt.bar(index, before_ex, color=colors, tick_label=member_IDs)\n",
    "plt.show()"
   ]
  },
  {
   "cell_type": "code",
   "execution_count": null,
   "metadata": {},
   "outputs": [],
   "source": [
    "plt.bar(index, before_ex, tick_label=member_IDs, width=0.3)"
   ]
  },
  {
   "cell_type": "code",
   "execution_count": null,
   "metadata": {},
   "outputs": [],
   "source": [
    "# 가로 막대 - barh() 모듈 사용\n",
    "\n",
    "colors = ['r', 'g', 'b', 'm']\n",
    "plt.barh(index, before_ex, color=colors, tick_label=member_IDs)\n",
    "plt.show()"
   ]
  },
  {
   "cell_type": "code",
   "execution_count": null,
   "metadata": {},
   "outputs": [],
   "source": [
    "barWidth = 0.4\n",
    "plt.bar(index, before_ex, color='c', align='edge', width = barWidth, label = 'before')\n",
    "plt.bar(index + barWidth, after_ex, color='m', align='edge', width = barWidth, label = 'after')\n",
    "\n",
    "plt.xticks(index + barWidth, member_IDs)\n",
    "plt.legend()\n",
    "plt.xlabel('회원 ID')\n",
    "plt.ylabel('팔굽혀펴기 횟수')\n",
    "plt.title('운동 시작 전과 후의 근지구력 변화 비교')\n",
    "plt.show()"
   ]
  },
  {
   "cell_type": "markdown",
   "metadata": {},
   "source": [
    "## 히스토그램"
   ]
  },
  {
   "cell_type": "markdown",
   "metadata": {},
   "source": [
    "-  데이터의 분포를 파악할 때 주로 사용\n",
    "- x는 연속형 데이터 (벡터를 사용)\n",
    "\n",
    "```python\n",
    "plt.hist(x, [,bins = bins_n 혹은 'auto'])\n",
    "# x: 변량 데이터\n",
    "# bin: 계급의 개수로 기본 10 / auto 의 경우 x 에 맞게 자동 입력\n",
    "```"
   ]
  },
  {
   "cell_type": "code",
   "execution_count": null,
   "metadata": {},
   "outputs": [],
   "source": [
    "import matplotlib.pyplot as plt\n",
    "\n",
    "stat = [76, 82, 84, 83, 90, 86, 85, 92, 72, 71, 100, 87, 81, 76, 94, 78, 81, 60, 79, 69, 74, 87, 82, 68, 79]\n",
    "plt.hist(stat)"
   ]
  },
  {
   "cell_type": "code",
   "execution_count": null,
   "metadata": {},
   "outputs": [],
   "source": [
    "# bins 지정\n",
    "\n",
    "plt.hist(stat, bins=8)\n",
    "plt.show()"
   ]
  },
  {
   "cell_type": "code",
   "execution_count": null,
   "metadata": {},
   "outputs": [],
   "source": [
    "plt.hist(stat, bins=8)\n",
    "plt.xlabel('시험 점수')\n",
    "plt.ylabel('도수(frequency)')\n",
    "plt.title('수학 시험의 히스토그램')\n",
    "plt.grid()\n",
    "plt.show()"
   ]
  },
  {
   "cell_type": "markdown",
   "metadata": {},
   "source": [
    "## 파이그래프"
   ]
  },
  {
   "cell_type": "markdown",
   "metadata": {},
   "source": [
    "- 전체 데이터에서 각 항목의 비율을 비교할 때 활용\n",
    "\n",
    "```python\n",
    "plt.pie(x, [labels=label_seq, autopct='비율 표시 형식', shadow=False(기본), explode=explode_seq, counterclokc=True(기본), startangle=각도(기본0)])\n",
    "```"
   ]
  },
  {
   "cell_type": "markdown",
   "metadata": {},
   "source": [
    "|옵션|내용|\n",
    "|--|--|\n",
    "|labels|x데이터 항목 수와 같은 문자열 시퀀스(리스트, 튜플)를 지정 파이 그래프의 각 부채꼴마다 문자열을 표시|\n",
    "|autopct|각 부채꼴 부분에 표시되는 숫자의 형식 지정|\n",
    "|shadow|그림자 효과 지정. 기본값은 효과를 지정하지 않는 것|\n",
    "|explode|부채꼴 부분이 원에서 돌출되는 효과 → 특정 부채꼴 부분을 강조|\n",
    "|counterclock|x데이터에서 부채꼴 부분이 그려지는 순서가 반시계방향(True)인지 시계방향(False)인지 지정. 기본값은 True|\n",
    "|startangle|제일 처음 부채꼴 부분이 그려지는 각도. x축을 중심으로 반시계방향으로 증가. 기본값은 0|"
   ]
  },
  {
   "cell_type": "code",
   "execution_count": null,
   "metadata": {},
   "outputs": [],
   "source": [
    "fruit = ['사과', '바나나', '딸기', '오렌지', '포도']\n",
    "result = [6, 7, 4, 2, 1]"
   ]
  },
  {
   "cell_type": "code",
   "execution_count": null,
   "metadata": {},
   "outputs": [],
   "source": [
    "import matplotlib.pyplot as plt\n",
    "\n",
    "plt.figure(figsize=(5, 5)) # 차트 사이즈 조절\n",
    "plt.pie(result)\n",
    "plt.show()"
   ]
  },
  {
   "cell_type": "code",
   "execution_count": null,
   "metadata": {},
   "outputs": [],
   "source": [
    "plt.figure(figsize=(5, 5))\n",
    "plt.pie(result, labels=fruit, autopct='%.1f%%')\n",
    "plt.show()"
   ]
  },
  {
   "cell_type": "code",
   "execution_count": null,
   "metadata": {},
   "outputs": [],
   "source": [
    "# startangle, counterclock=False\n",
    "\n",
    "plt.figure(figsize=(5, 5))\n",
    "plt.pie(result, labels=fruit, autopct='%.1f%%', startangle=90, counterclock=False)\n",
    "plt.show()"
   ]
  },
  {
   "cell_type": "code",
   "execution_count": null,
   "metadata": {},
   "outputs": [],
   "source": [
    "# 특정 부채꼴 강조\n",
    "explode_value = (0.1, 0, 0, 0, 0) # 첫 번째 0.1 씩 떨어짐\n",
    "\n",
    "plt.figure(figsize=(5, 5))\n",
    "plt.pie(result, labels=fruit, autopct='%.1f%%', startangle=90, counterclock=False, explode=explode_value, shadow=True)\n",
    "plt.show()"
   ]
  },
  {
   "cell_type": "markdown",
   "metadata": {},
   "source": [
    "## 그래프 저장"
   ]
  },
  {
   "cell_type": "markdown",
   "metadata": {},
   "source": [
    "- 그래프를 이미지 파일로 저장하여 다른 자료에서 활용 가능\n",
    "\n",
    "```python\n",
    "plt.savefig(file_name, [dpi=dpi_n(기본은 72)])\n",
    "```"
   ]
  },
  {
   "cell_type": "code",
   "execution_count": null,
   "metadata": {},
   "outputs": [],
   "source": [
    "import matplotlib as mpl\n",
    "mpl.rcParams['figure.figsize']"
   ]
  },
  {
   "cell_type": "code",
   "execution_count": null,
   "metadata": {},
   "outputs": [],
   "source": [
    "mpl.rcParams['figure.dpi']"
   ]
  },
  {
   "cell_type": "code",
   "execution_count": null,
   "metadata": {},
   "outputs": [],
   "source": [
    "import numpy as np\n",
    "import matplotlib.pyplot as plt\n",
    "\n",
    "x = np.arange(0, 10, 1)\n",
    "y1 = x\n",
    "y2 = x + 1\n",
    "y3 = x + 2\n",
    "y4 = x + 3"
   ]
  },
  {
   "cell_type": "code",
   "execution_count": null,
   "metadata": {},
   "outputs": [],
   "source": [
    "plt.plot(x, y1, x, y2, x, y3, x, y4)\n",
    "plt.grid(True)\n",
    "plt.xlabel('x')\n",
    "plt.ylabel('y')\n",
    "plt.title('Saving a figure')\n",
    "# 그래프를 이미지 파일로 저장. dpi 는 100으로 설정\n",
    "plt.savefig('C:/Users/kkobu/Desktop/saveFigTest1.png', dpi=100)\n",
    "plt.show()"
   ]
  },
  {
   "cell_type": "code",
   "execution_count": null,
   "metadata": {},
   "outputs": [],
   "source": [
    "import matplotlib.pyplot as plt\n",
    "fruit = ['사과', '바나나', '딸기', '오렌지', '포도']\n",
    "result = [7, 6, 3, 2, 2]"
   ]
  },
  {
   "cell_type": "code",
   "execution_count": null,
   "metadata": {},
   "outputs": [],
   "source": [
    "explode_value = (0.1, 0, 0, 0, 0)\n",
    "plt.figure(figsize=(5, 5)) # 그래프 크기 지정\n",
    "plt.pie(result, labels=fruit, autopct='%.1f%%', startangle=90, counterclock=False, explode=explode_value, shadow=True)\n",
    "plt.savefig('C:/Users/kkobu/Desktop/saveFigTest2.png', dpi=200)"
   ]
  },
  {
   "cell_type": "markdown",
   "metadata": {},
   "source": [
    "## Pandas 에서 그래프 그리기"
   ]
  },
  {
   "cell_type": "markdown",
   "metadata": {},
   "source": [
    "|Kind 옵션|의미|\n",
    "|--|--|\n",
    "|line|선 그래프(기본)|\n",
    "|scatter|산점도(DataFrame 데이터만 가능)|\n",
    "|bar|수직 바 그래프|\n",
    "|barh|수평 바 그래프|\n",
    "|hist|히스토그램|\n",
    "|pie|파이 그래프|"
   ]
  },
  {
   "cell_type": "code",
   "execution_count": null,
   "metadata": {},
   "outputs": [],
   "source": [
    "import pandas as pd\n",
    "import matplotlib.pyplot as plt\n",
    "\n",
    "s1 = pd.Series([1,2,3,4,5,6,7,8,9,10])\n",
    "s1"
   ]
  },
  {
   "cell_type": "code",
   "execution_count": null,
   "metadata": {},
   "outputs": [],
   "source": [
    "s1.plot()"
   ]
  },
  {
   "cell_type": "code",
   "execution_count": null,
   "metadata": {},
   "outputs": [],
   "source": [
    "s2 = pd.Series([1,2,3,4,5,6,7,8,9,10], index=pd.date_range('2020-01-01', periods=10))\n",
    "s2"
   ]
  },
  {
   "cell_type": "code",
   "execution_count": null,
   "metadata": {},
   "outputs": [],
   "source": [
    "s2.plot(grid=True)\n",
    "plt.show()"
   ]
  },
  {
   "cell_type": "code",
   "execution_count": null,
   "metadata": {},
   "outputs": [],
   "source": [
    "df_kbo = pd.read_csv(\"C:/Users/kkobu/Desktop/200224_특화/이러닝/kbo.csv\", index_col=\"연도\")"
   ]
  },
  {
   "cell_type": "code",
   "execution_count": null,
   "metadata": {},
   "outputs": [],
   "source": [
    "df_kbo"
   ]
  },
  {
   "cell_type": "code",
   "execution_count": null,
   "metadata": {},
   "outputs": [],
   "source": [
    "import matplotlib\n",
    "matplotlib.rcParams['font.family'] = 'Malgun Gothic'\n",
    "matplotlib.rcParams['axes.unicode_minus'] = False\n",
    "\n",
    "df_kbo.plot()\n",
    "plt.show()"
   ]
  },
  {
   "cell_type": "code",
   "execution_count": null,
   "metadata": {},
   "outputs": [],
   "source": [
    "kbo_plot = df_kbo.plot(grid=True, style=['r--*', 'g-o', 'b:*', 'm-.p'])\n",
    "kbo_plot.set_xlabel('연도')\n",
    "kbo_plot.set_ylabel('승률')\n",
    "kbo_plot.set_title('KBO 프로야구 구단 승률')\n",
    "plt.show()"
   ]
  },
  {
   "cell_type": "code",
   "execution_count": null,
   "metadata": {},
   "outputs": [],
   "source": [
    "import matplotlib.pyplot as plt\n",
    "import pandas as pd\n",
    "\n",
    "temperature = [25.2, 27.4, 22.9, 26.2, 29.5, 33.1, 30.4, 36.1, 34.4, 29.1]\n",
    "ice_cream_sales = [236500, 357500, 203500, 365200, 446600, 574200, 453200, 675400, 598400, 463100]"
   ]
  },
  {
   "cell_type": "code",
   "execution_count": null,
   "metadata": {},
   "outputs": [],
   "source": [
    "dict_data = {'기온':temperature, '아이스크림 판매량':ice_cream_sales}\n",
    "df_ice_cream = pd.DataFrame(dict_data, columns=['기온', '아이스크림 판매량'])\n",
    "df_ice_cream"
   ]
  },
  {
   "cell_type": "code",
   "execution_count": null,
   "metadata": {},
   "outputs": [],
   "source": [
    "df_ice_cream.plot.scatter(x='기온', y='아이스크림 판매량', grid=True, title='최고 기온과 아이스크림 판매량')\n",
    "plt.show()"
   ]
  },
  {
   "cell_type": "code",
   "execution_count": null,
   "metadata": {},
   "outputs": [],
   "source": [
    "grade_num = [5, 14, 12, 3]\n",
    "students = ['A', 'B', 'C', 'D']\n",
    "\n",
    "df_grade = pd.DataFrame(grade_num, index=students, columns=['Students'])\n",
    "df_grade"
   ]
  },
  {
   "cell_type": "code",
   "execution_count": null,
   "metadata": {},
   "outputs": [],
   "source": [
    "grade_bar = df_grade.plot.bar(grid=True)\n",
    "grade_bar.set_xlabel(\"학점\")\n",
    "grade_bar.set_ylabel(\"학생수\")\n",
    "grade_bar.set_title(\"학점별 학생 수 막대 그래프\")\n",
    "plt.show()"
   ]
  },
  {
   "cell_type": "code",
   "execution_count": null,
   "metadata": {},
   "outputs": [],
   "source": [
    "fruit = ['사과', '바나나', '딸기', '오렌지', '포도']\n",
    "result = [7, 6, 3, 2, 2]\n",
    "\n",
    "df_fruit = pd.Series(result, index=fruit, name='선택한 학생 수')\n",
    "df_fruit"
   ]
  },
  {
   "cell_type": "code",
   "execution_count": null,
   "metadata": {},
   "outputs": [],
   "source": [
    "df_fruit.plot.pie()\n",
    "plt.show()"
   ]
  },
  {
   "cell_type": "markdown",
   "metadata": {},
   "source": [
    "## 실습"
   ]
  },
  {
   "cell_type": "markdown",
   "metadata": {},
   "source": [
    "### 1번 문제"
   ]
  },
  {
   "cell_type": "markdown",
   "metadata": {},
   "source": [
    "실선스타일의 sin 그래프와 파선스타일의 cos 그래프를 생성하라"
   ]
  },
  {
   "cell_type": "code",
   "execution_count": null,
   "metadata": {},
   "outputs": [],
   "source": [
    "import numpy as np\n",
    "import pandas as pd\n",
    "import matplotlib.pyplot as plt"
   ]
  },
  {
   "cell_type": "code",
   "execution_count": null,
   "metadata": {},
   "outputs": [],
   "source": [
    "x = np.linspace(0, 10, 100)"
   ]
  },
  {
   "cell_type": "code",
   "execution_count": null,
   "metadata": {},
   "outputs": [],
   "source": [
    "x"
   ]
  },
  {
   "cell_type": "code",
   "execution_count": null,
   "metadata": {},
   "outputs": [],
   "source": [
    "y1 = np.sin(x)\n",
    "y2 = np.cos(x)"
   ]
  },
  {
   "cell_type": "code",
   "execution_count": null,
   "metadata": {},
   "outputs": [],
   "source": [
    "y1"
   ]
  },
  {
   "cell_type": "code",
   "execution_count": null,
   "metadata": {},
   "outputs": [],
   "source": [
    "y2"
   ]
  },
  {
   "cell_type": "code",
   "execution_count": null,
   "metadata": {},
   "outputs": [],
   "source": [
    "plt.figure()# 새로운 그래프 창 생성\n",
    "plt.plot(x, y1, '-', x, y2, '--')\n",
    "plt.show()"
   ]
  },
  {
   "cell_type": "markdown",
   "metadata": {},
   "source": [
    "### 2번 문제"
   ]
  },
  {
   "cell_type": "markdown",
   "metadata": {},
   "source": [
    "`subplot()` 을 활용하여 sin 그래프와 cos 그래프 그려보시오"
   ]
  },
  {
   "cell_type": "code",
   "execution_count": null,
   "metadata": {},
   "outputs": [],
   "source": [
    "plt.figure()\n",
    "plt.subplot(2, 1, 1)\n",
    "plt.plot(x, y1)\n",
    "\n",
    "plt.subplot(2, 1, 2)\n",
    "plt.plot(x, y2)\n",
    "plt.show()"
   ]
  },
  {
   "cell_type": "markdown",
   "metadata": {},
   "source": [
    "### 3번 문제"
   ]
  },
  {
   "cell_type": "markdown",
   "metadata": {},
   "source": [
    "한 학급에서 30명 학생들이 5개의 영화 장르(로맨스, 코미디, 액션, 판타지, 스릴러) 중 좋아하는 장르를 선택하라고 했을 때 장르 별로 선택한 학생 수(10, 6, 4, 12, 8)를 파이그래프로 표현하시오."
   ]
  },
  {
   "cell_type": "code",
   "execution_count": null,
   "metadata": {},
   "outputs": [],
   "source": [
    "genre=['로맨스', '코미디', '액션', '판타지', '스릴러']\n",
    "student=[10, 6, 4, 12, 8]\n",
    "plt.pie(student, labels=genre)\n",
    "plt.show()"
   ]
  },
  {
   "cell_type": "code",
   "execution_count": null,
   "metadata": {},
   "outputs": [],
   "source": [
    "df_genre=pd.Series(result, index=genre, name='favorites')\n",
    "df_genre.plot.pie()\n",
    "plt.show()"
   ]
  }
 ],
 "metadata": {
  "kernelspec": {
   "display_name": "Python 3",
   "language": "python",
   "name": "python3"
  },
  "language_info": {
   "codemirror_mode": {
    "name": "ipython",
    "version": 3
   },
   "file_extension": ".py",
   "mimetype": "text/x-python",
   "name": "python",
   "nbconvert_exporter": "python",
   "pygments_lexer": "ipython3",
   "version": "3.7.6"
  },
  "toc": {
   "base_numbering": 1,
   "nav_menu": {},
   "number_sections": true,
   "sideBar": true,
   "skip_h1_title": false,
   "title_cell": "Table of Contents",
   "title_sidebar": "Contents",
   "toc_cell": false,
   "toc_position": {
    "height": "calc(100% - 180px)",
    "left": "10px",
    "top": "150px",
    "width": "307.2px"
   },
   "toc_section_display": true,
   "toc_window_display": false
  }
 },
 "nbformat": 4,
 "nbformat_minor": 2
}
